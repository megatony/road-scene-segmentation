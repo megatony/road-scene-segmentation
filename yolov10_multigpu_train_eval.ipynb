{
 "cells": [
  {
   "cell_type": "code",
   "execution_count": 2,
   "id": "2f02e70f-a8aa-4d41-ab26-d8b2a1b59984",
   "metadata": {},
   "outputs": [
    {
     "ename": "AttributeError",
     "evalue": "partially initialized module 'torch' has no attribute '_prims_common' (most likely due to a circular import)",
     "output_type": "error",
     "traceback": [
      "\u001b[0;31m---------------------------------------------------------------------------\u001b[0m",
      "\u001b[0;31mAttributeError\u001b[0m                            Traceback (most recent call last)",
      "Cell \u001b[0;32mIn[2], line 1\u001b[0m\n\u001b[0;32m----> 1\u001b[0m \u001b[38;5;28;01mimport\u001b[39;00m \u001b[38;5;21;01mtorch\u001b[39;00m\n\u001b[1;32m      2\u001b[0m \u001b[38;5;28;01mimport\u001b[39;00m \u001b[38;5;21;01mos\u001b[39;00m\n\u001b[1;32m      3\u001b[0m \u001b[38;5;28;01mfrom\u001b[39;00m \u001b[38;5;21;01multralytics\u001b[39;00m \u001b[38;5;28;01mimport\u001b[39;00m YOLO\n",
      "File \u001b[0;32m~/.local/lib/python3.10/site-packages/torch/__init__.py:2604\u001b[0m\n\u001b[1;32m   2600\u001b[0m \u001b[38;5;28;01mfrom\u001b[39;00m \u001b[38;5;21;01mtorch\u001b[39;00m\u001b[38;5;21;01m.\u001b[39;00m\u001b[38;5;21;01mfunc\u001b[39;00m \u001b[38;5;28;01mimport\u001b[39;00m vmap \u001b[38;5;28;01mas\u001b[39;00m vmap\n\u001b[1;32m   2603\u001b[0m \u001b[38;5;28;01mif\u001b[39;00m \u001b[38;5;129;01mnot\u001b[39;00m TYPE_CHECKING:\n\u001b[0;32m-> 2604\u001b[0m     \u001b[38;5;28;01mfrom\u001b[39;00m \u001b[38;5;21;01mtorch\u001b[39;00m \u001b[38;5;28;01mimport\u001b[39;00m _meta_registrations\n\u001b[1;32m   2606\u001b[0m \u001b[38;5;66;03m# Enable CUDA Sanitizer\u001b[39;00m\n\u001b[1;32m   2607\u001b[0m \u001b[38;5;28;01mif\u001b[39;00m \u001b[38;5;124m\"\u001b[39m\u001b[38;5;124mTORCH_CUDA_SANITIZER\u001b[39m\u001b[38;5;124m\"\u001b[39m \u001b[38;5;129;01min\u001b[39;00m os\u001b[38;5;241m.\u001b[39menviron:\n",
      "File \u001b[0;32m~/.local/lib/python3.10/site-packages/torch/_meta_registrations.py:11\u001b[0m\n\u001b[1;32m      9\u001b[0m \u001b[38;5;28;01mimport\u001b[39;00m \u001b[38;5;21;01mtorch\u001b[39;00m\u001b[38;5;21;01m.\u001b[39;00m\u001b[38;5;21;01m_prims_common\u001b[39;00m \u001b[38;5;28;01mas\u001b[39;00m \u001b[38;5;21;01mutils\u001b[39;00m\n\u001b[1;32m     10\u001b[0m \u001b[38;5;28;01mfrom\u001b[39;00m \u001b[38;5;21;01mtorch\u001b[39;00m \u001b[38;5;28;01mimport\u001b[39;00m SymBool, SymFloat, Tensor\n\u001b[0;32m---> 11\u001b[0m \u001b[38;5;28;01mfrom\u001b[39;00m \u001b[38;5;21;01mtorch\u001b[39;00m\u001b[38;5;21;01m.\u001b[39;00m\u001b[38;5;21;01m_decomp\u001b[39;00m \u001b[38;5;28;01mimport\u001b[39;00m (\n\u001b[1;32m     12\u001b[0m     _add_op_to_registry,\n\u001b[1;32m     13\u001b[0m     _convert_out_params,\n\u001b[1;32m     14\u001b[0m     global_decomposition_table,\n\u001b[1;32m     15\u001b[0m     meta_table,\n\u001b[1;32m     16\u001b[0m )\n\u001b[1;32m     17\u001b[0m \u001b[38;5;28;01mfrom\u001b[39;00m \u001b[38;5;21;01mtorch\u001b[39;00m\u001b[38;5;21;01m.\u001b[39;00m\u001b[38;5;21;01m_ops\u001b[39;00m \u001b[38;5;28;01mimport\u001b[39;00m OpOverload\n\u001b[1;32m     18\u001b[0m \u001b[38;5;28;01mfrom\u001b[39;00m \u001b[38;5;21;01mtorch\u001b[39;00m\u001b[38;5;21;01m.\u001b[39;00m\u001b[38;5;21;01m_prims\u001b[39;00m \u001b[38;5;28;01mimport\u001b[39;00m _prim_elementwise_meta, ELEMENTWISE_PRIM_TYPE_PROMOTION_KIND\n",
      "File \u001b[0;32m~/.local/lib/python3.10/site-packages/torch/_decomp/__init__.py:284\u001b[0m\n\u001b[1;32m    280\u001b[0m             decompositions\u001b[38;5;241m.\u001b[39mpop(op, \u001b[38;5;28;01mNone\u001b[39;00m)\n\u001b[1;32m    283\u001b[0m \u001b[38;5;66;03m# populate the table\u001b[39;00m\n\u001b[0;32m--> 284\u001b[0m \u001b[38;5;28;01mimport\u001b[39;00m \u001b[38;5;21;01mtorch\u001b[39;00m\u001b[38;5;21;01m.\u001b[39;00m\u001b[38;5;21;01m_decomp\u001b[39;00m\u001b[38;5;21;01m.\u001b[39;00m\u001b[38;5;21;01mdecompositions\u001b[39;00m\n\u001b[1;32m    285\u001b[0m \u001b[38;5;28;01mimport\u001b[39;00m \u001b[38;5;21;01mtorch\u001b[39;00m\u001b[38;5;21;01m.\u001b[39;00m\u001b[38;5;21;01m_refs\u001b[39;00m\n\u001b[1;32m    288\u001b[0m \u001b[38;5;28;01mdef\u001b[39;00m \u001b[38;5;21mcore_aten_decompositions\u001b[39m() \u001b[38;5;241m-\u001b[39m\u001b[38;5;241m>\u001b[39m \u001b[38;5;124m\"\u001b[39m\u001b[38;5;124mCustomDecompTable\u001b[39m\u001b[38;5;124m\"\u001b[39m:\n",
      "File \u001b[0;32m~/.local/lib/python3.10/site-packages/torch/_decomp/decompositions.py:15\u001b[0m\n\u001b[1;32m     13\u001b[0m \u001b[38;5;28;01mimport\u001b[39;00m \u001b[38;5;21;01mtorch\u001b[39;00m\n\u001b[1;32m     14\u001b[0m \u001b[38;5;28;01mimport\u001b[39;00m \u001b[38;5;21;01mtorch\u001b[39;00m\u001b[38;5;21;01m.\u001b[39;00m\u001b[38;5;21;01m_meta_registrations\u001b[39;00m\n\u001b[0;32m---> 15\u001b[0m \u001b[38;5;28;01mimport\u001b[39;00m \u001b[38;5;21;01mtorch\u001b[39;00m\u001b[38;5;21;01m.\u001b[39;00m\u001b[38;5;21;01m_prims\u001b[39;00m \u001b[38;5;28;01mas\u001b[39;00m \u001b[38;5;21;01mprims\u001b[39;00m\n\u001b[1;32m     16\u001b[0m \u001b[38;5;28;01mimport\u001b[39;00m \u001b[38;5;21;01mtorch\u001b[39;00m\u001b[38;5;21;01m.\u001b[39;00m\u001b[38;5;21;01m_prims_common\u001b[39;00m \u001b[38;5;28;01mas\u001b[39;00m \u001b[38;5;21;01mutils\u001b[39;00m\n\u001b[1;32m     17\u001b[0m \u001b[38;5;28;01mimport\u001b[39;00m \u001b[38;5;21;01mtorch\u001b[39;00m\u001b[38;5;21;01m.\u001b[39;00m\u001b[38;5;21;01mnn\u001b[39;00m\u001b[38;5;21;01m.\u001b[39;00m\u001b[38;5;21;01mfunctional\u001b[39;00m \u001b[38;5;28;01mas\u001b[39;00m \u001b[38;5;21;01mF\u001b[39;00m\n",
      "File \u001b[0;32m~/.local/lib/python3.10/site-packages/torch/_prims/__init__.py:2945\u001b[0m\n\u001b[1;32m   2933\u001b[0m     \u001b[38;5;28;01mpass\u001b[39;00m\n\u001b[1;32m   2936\u001b[0m _sink_tokens \u001b[38;5;241m=\u001b[39m _make_prim(\n\u001b[1;32m   2937\u001b[0m     schema\u001b[38;5;241m=\u001b[39m\u001b[38;5;124m\"\u001b[39m\u001b[38;5;124m_sink_tokens(Tensor[] tokens) -> ()\u001b[39m\u001b[38;5;124m\"\u001b[39m,\n\u001b[1;32m   2938\u001b[0m     meta\u001b[38;5;241m=\u001b[39m_sink_tokens_aten,\n\u001b[0;32m   (...)\u001b[0m\n\u001b[1;32m   2941\u001b[0m     doc\u001b[38;5;241m=\u001b[39m\u001b[38;5;124m\"\u001b[39m\u001b[38;5;124mSink all of the tokens which were previously used for keeping track of side effects.\u001b[39m\u001b[38;5;124m\"\u001b[39m,\n\u001b[1;32m   2942\u001b[0m )\n\u001b[0;32m-> 2945\u001b[0m \u001b[43mregister_rng_prims\u001b[49m\u001b[43m(\u001b[49m\u001b[43m)\u001b[49m\n\u001b[1;32m   2946\u001b[0m register_debug_prims()\n",
      "File \u001b[0;32m~/.local/lib/python3.10/site-packages/torch/_prims/rng_prims.py:319\u001b[0m, in \u001b[0;36mregister_rng_prims\u001b[0;34m()\u001b[0m\n\u001b[1;32m    318\u001b[0m \u001b[38;5;28;01mdef\u001b[39;00m \u001b[38;5;21mregister_rng_prims\u001b[39m():\n\u001b[0;32m--> 319\u001b[0m     \u001b[43mregister_philox_rand\u001b[49m\u001b[43m(\u001b[49m\u001b[43m)\u001b[49m\n",
      "File \u001b[0;32m~/.local/lib/python3.10/site-packages/torch/_prims/rng_prims.py:125\u001b[0m, in \u001b[0;36mregister_philox_rand\u001b[0;34m()\u001b[0m\n\u001b[1;32m    121\u001b[0m         random_values \u001b[38;5;241m=\u001b[39m torch\u001b[38;5;241m.\u001b[39mrand(shape, device\u001b[38;5;241m=\u001b[39mdevice, dtype\u001b[38;5;241m=\u001b[39mdtype)\n\u001b[1;32m    123\u001b[0m     \u001b[38;5;28;01mreturn\u001b[39;00m random_values, philox_rand_offset(shape)\n\u001b[0;32m--> 125\u001b[0m \u001b[43mregister_rng_prim\u001b[49m\u001b[43m(\u001b[49m\n\u001b[1;32m    126\u001b[0m \u001b[43m    \u001b[49m\u001b[43mname\u001b[49m\u001b[38;5;241;43m=\u001b[39;49m\u001b[43mname\u001b[49m\u001b[43m,\u001b[49m\n\u001b[1;32m    127\u001b[0m \u001b[43m    \u001b[49m\u001b[43mschema\u001b[49m\u001b[38;5;241;43m=\u001b[39;49m\u001b[43mschema\u001b[49m\u001b[43m,\u001b[49m\n\u001b[1;32m    128\u001b[0m \u001b[43m    \u001b[49m\u001b[43mimpl_aten\u001b[49m\u001b[38;5;241;43m=\u001b[39;49m\u001b[43m_philox_rand\u001b[49m\u001b[43m,\u001b[49m\n\u001b[1;32m    129\u001b[0m \u001b[43m    \u001b[49m\u001b[43mimpl_meta\u001b[49m\u001b[38;5;241;43m=\u001b[39;49m\u001b[43m_philox_rand_meta\u001b[49m\u001b[43m,\u001b[49m\n\u001b[1;32m    130\u001b[0m \u001b[43m    \u001b[49m\u001b[43mdoc\u001b[49m\u001b[38;5;241;43m=\u001b[39;49m\u001b[38;5;124;43m\"\u001b[39;49m\u001b[38;5;124;43mPhilox based stateless rand operator\u001b[39;49m\u001b[38;5;124;43m\"\u001b[39;49m\u001b[43m,\u001b[49m\n\u001b[1;32m    131\u001b[0m \u001b[43m    \u001b[49m\u001b[43mtags\u001b[49m\u001b[38;5;241;43m=\u001b[39;49m\u001b[43m(\u001b[49m\u001b[43mtorch\u001b[49m\u001b[38;5;241;43m.\u001b[39;49m\u001b[43mTag\u001b[49m\u001b[38;5;241;43m.\u001b[39;49m\u001b[43mnondeterministic_seeded\u001b[49m\u001b[43m,\u001b[49m\u001b[43m)\u001b[49m\u001b[43m,\u001b[49m\n\u001b[1;32m    132\u001b[0m \u001b[43m\u001b[49m\u001b[43m)\u001b[49m\n",
      "File \u001b[0;32m~/.local/lib/python3.10/site-packages/torch/_prims/rng_prims.py:41\u001b[0m, in \u001b[0;36mregister_rng_prim\u001b[0;34m(name, schema, impl_aten, impl_meta, doc, tags)\u001b[0m\n\u001b[1;32m     39\u001b[0m \u001b[38;5;28;01mfor\u001b[39;00m p \u001b[38;5;129;01min\u001b[39;00m (prim_packet, prim):\n\u001b[1;32m     40\u001b[0m     p\u001b[38;5;241m.\u001b[39m\u001b[38;5;18m__doc__\u001b[39m \u001b[38;5;241m=\u001b[39m doc\n\u001b[0;32m---> 41\u001b[0m     p\u001b[38;5;241m.\u001b[39mreturn_type \u001b[38;5;241m=\u001b[39m \u001b[43mtorch\u001b[49m\u001b[38;5;241;43m.\u001b[39;49m\u001b[43m_prims_common\u001b[49m\u001b[38;5;241m.\u001b[39mRETURN_TYPE\u001b[38;5;241m.\u001b[39mNEW  \u001b[38;5;66;03m# type: ignore[attr-defined]\u001b[39;00m\n\u001b[1;32m     43\u001b[0m     p\u001b[38;5;241m.\u001b[39mschema \u001b[38;5;241m=\u001b[39m name \u001b[38;5;241m+\u001b[39m schema\n\u001b[1;32m     44\u001b[0m     p\u001b[38;5;241m.\u001b[39mimpl_aten \u001b[38;5;241m=\u001b[39m impl_aten\n",
      "\u001b[0;31mAttributeError\u001b[0m: partially initialized module 'torch' has no attribute '_prims_common' (most likely due to a circular import)"
     ]
    }
   ],
   "source": [
    "\"\"\"\n",
    "README: YOLOv10 Multi-GPU Training & Test Script\n",
    "\n",
    "- Dynamically expands CUDA memory and checks for at least 2 GPUs.\n",
    "- Trains a YOLOv10 model on a custom dataset using DataParallel (device=[0,1]) with the 'rect' argument enabled.\n",
    "- Evaluates the trained model on the test split after training.\n",
    "\n",
    "How to use:\n",
    "- Make sure you have the Ultralytics YOLO package and PyTorch installed.\n",
    "- Edit the 'data' argument to your dataset YAML path as needed.\n",
    "- Adjust batch size, workers, and epochs according to your hardware.\n",
    "\n",
    "Author: Bahadir Akin Akgul\n",
    "Date: 13.07.2025\n",
    "\"\"\"\n",
    "\n",
    "import torch\n",
    "import os\n",
    "from ultralytics import YOLO\n",
    "\n",
    "# Enable dynamic CUDA memory expansion\n",
    "os.environ[\"PYTORCH_CUDA_ALLOC_CONF\"] = \"expandable_segments:True\"\n",
    "\n",
    "# Ensure multiple GPUs are detected\n",
    "num_gpus = torch.cuda.device_count()\n",
    "assert num_gpus > 1, \"Multi-GPU setup not detected!\"\n",
    "print(f\"Using {num_gpus} GPUs for training...\")\n",
    "\n",
    "# Load YOLOv10 model (can also use a path to your own checkpoint)\n",
    "model = YOLO('yolov10l')\n",
    "\n",
    "# Train the model with DataParallel (device=[0,1]), rect=True\n",
    "model.train(\n",
    "    data=\"/PATH/TO/your/data.yaml\",      # <-- CHANGE THIS\n",
    "    epochs=100,\n",
    "    imgsz=1024,                          # Lower if OOM errors occur\n",
    "    batch=12,                            # Adjust based on your VRAM\n",
    "    device=[0, 1],                       # DataParallel for multi-GPU\n",
    "    optimizer=\"SGD\",\n",
    "    save_period=10,\n",
    "    workers=16,\n",
    "    cache=False,\n",
    "    name='yolov10-70-30'\n",
    ")\n",
    "\n",
    "# Evaluate the model on the test split after training\n",
    "test_results = model.val(split='test')\n"
   ]
  },
  {
   "cell_type": "code",
   "execution_count": null,
   "id": "b2eef01f-a379-4af7-aaac-28fe58b7d181",
   "metadata": {},
   "outputs": [],
   "source": []
  }
 ],
 "metadata": {
  "kernelspec": {
   "display_name": "Python 3 (ipykernel)",
   "language": "python",
   "name": "python3"
  },
  "language_info": {
   "codemirror_mode": {
    "name": "ipython",
    "version": 3
   },
   "file_extension": ".py",
   "mimetype": "text/x-python",
   "name": "python",
   "nbconvert_exporter": "python",
   "pygments_lexer": "ipython3",
   "version": "3.10.15"
  }
 },
 "nbformat": 4,
 "nbformat_minor": 5
}
