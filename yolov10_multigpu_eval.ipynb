{
 "cells": [
  {
   "cell_type": "code",
   "execution_count": null,
   "id": "2f02e70f-a8aa-4d41-ab26-d8b2a1b59984",
   "metadata": {},
   "outputs": [],
   "source": [
    "\"\"\"\n",
    "README: YOLOv10 Multi-GPU Evaluation Script (Ultralytics)\n",
    "\n",
    "This script loads a trained YOLOv10 model (using Ultralytics YOLO), \n",
    "ensures multi-GPU support, enables dynamic CUDA memory expansion, \n",
    "and evaluates the model on the test split.\n",
    "\n",
    "Features:\n",
    "- Enables dynamic CUDA memory expansion for efficient multi-GPU usage.\n",
    "- Checks and asserts multiple GPUs are available.\n",
    "- Loads a custom-trained YOLOv10 model from a specified path.\n",
    "- Evaluates the model on the test set using the built-in val method.\n",
    "\n",
    "Requirements:\n",
    "- torch\n",
    "- ultralytics>=8.0.0\n",
    "\n",
    "Author: Bahadir Akin Akgul\n",
    "Date: 13.07.2025\n",
    "\"\"\"\n",
    "\n",
    "import torch\n",
    "import os\n",
    "from ultralytics import YOLO\n",
    "\n",
    "# Enable dynamic CUDA memory expansion\n",
    "os.environ[\"PYTORCH_CUDA_ALLOC_CONF\"] = \"expandable_segments:True\"\n",
    "\n",
    "# Ensure multiple GPUs are detected\n",
    "num_gpus = torch.cuda.device_count()\n",
    "assert num_gpus > 1, \"Multi-GPU setup not detected!\"\n",
    "print(f\"Using {num_gpus} GPUs for evaluation...\")\n",
    "\n",
    "# Load trained YOLOv10 model\n",
    "model = YOLO('runs/detect/train124/weights/best.pt')  # Update the path as needed\n",
    "\n",
    "# Evaluate the model on the test split\n",
    "test_results = model.val(split='test')\n"
   ]
  },
  {
   "cell_type": "code",
   "execution_count": null,
   "id": "7c67b95e-42a7-4174-91ab-4b141a25120e",
   "metadata": {},
   "outputs": [],
   "source": []
  }
 ],
 "metadata": {
  "kernelspec": {
   "display_name": "Python 3 (ipykernel)",
   "language": "python",
   "name": "python3"
  },
  "language_info": {
   "codemirror_mode": {
    "name": "ipython",
    "version": 3
   },
   "file_extension": ".py",
   "mimetype": "text/x-python",
   "name": "python",
   "nbconvert_exporter": "python",
   "pygments_lexer": "ipython3",
   "version": "3.10.15"
  }
 },
 "nbformat": 4,
 "nbformat_minor": 5
}
