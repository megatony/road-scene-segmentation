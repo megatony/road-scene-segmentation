{
 "cells": [
  {
   "cell_type": "code",
   "execution_count": null,
   "id": "2f02e70f-a8aa-4d41-ab26-d8b2a1b59984",
   "metadata": {},
   "outputs": [
    {
     "name": "stdout",
     "output_type": "stream",
     "text": [
      "\n",
      "🔧 95-5 oranında bölünüyor ve eğitiliyor...\n"
     ]
    },
    {
     "name": "stderr",
     "output_type": "stream",
     "text": [
      "Linking to /truba/home/baakgul/roadtr-14032025/splits/split_95-5/train: 100%|██████████| 8491/8491 [00:39<00:00, 215.35it/s]\n",
      "Linking to /truba/home/baakgul/roadtr-14032025/splits/split_95-5/valid: 100%|██████████| 223/223 [00:01<00:00, 222.65it/s]\n",
      "Linking to /truba/home/baakgul/roadtr-14032025/splits/split_95-5/test: 100%|██████████| 224/224 [00:00<00:00, 232.69it/s]\n"
     ]
    },
    {
     "name": "stdout",
     "output_type": "stream",
     "text": [
      "✅ data.yaml oluşturuldu: /truba/home/baakgul/roadtr-14032025/splits/split_95-5/data.yaml\n",
      "New https://pypi.org/project/ultralytics/8.3.111 available 😃 Update with 'pip install -U ultralytics'\n",
      "Ultralytics 8.3.91 🚀 Python-3.10.15 torch-2.6.0+cu124 CUDA:0 (Tesla P100-PCIE-16GB, 16269MiB)\n",
      "                                                       CUDA:1 (Tesla P100-PCIE-16GB, 16269MiB)\n",
      "\u001b[34m\u001b[1mengine/trainer: \u001b[0mtask=detect, mode=train, model=yolov8l.pt, data=/truba/home/baakgul/roadtr-14032025/splits/split_95-5/data.yaml, epochs=100, time=None, patience=100, batch=20, imgsz=1024, save=True, save_period=10, cache=False, device=[0, 1], workers=8, project=None, name=exp_955, exist_ok=False, pretrained=True, optimizer=SGD, verbose=True, seed=0, deterministic=True, single_cls=False, rect=False, cos_lr=False, close_mosaic=10, resume=False, amp=True, fraction=1.0, profile=False, freeze=None, multi_scale=False, overlap_mask=True, mask_ratio=4, dropout=0.0, val=True, split=val, save_json=False, save_hybrid=False, conf=None, iou=0.7, max_det=300, half=False, dnn=False, plots=True, source=None, vid_stride=1, stream_buffer=False, visualize=False, augment=False, agnostic_nms=False, classes=None, retina_masks=False, embed=None, show=False, save_frames=False, save_txt=False, save_conf=False, save_crop=False, show_labels=True, show_conf=True, show_boxes=True, line_width=None, format=torchscript, keras=False, optimize=False, int8=False, dynamic=False, simplify=True, opset=None, workspace=None, nms=False, lr0=0.01, lrf=0.01, momentum=0.937, weight_decay=0.0005, warmup_epochs=3.0, warmup_momentum=0.8, warmup_bias_lr=0.1, box=7.5, cls=0.5, dfl=1.5, pose=12.0, kobj=1.0, nbs=64, hsv_h=0.015, hsv_s=0.7, hsv_v=0.4, degrees=0.0, translate=0.1, scale=0.5, shear=0.0, perspective=0.0, flipud=0.0, fliplr=0.5, bgr=0.0, mosaic=1.0, mixup=0.0, copy_paste=0.0, copy_paste_mode=flip, auto_augment=randaugment, erasing=0.4, crop_fraction=1.0, cfg=None, tracker=botsort.yaml, save_dir=runs/detect/exp_955\n",
      "Overriding model.yaml nc=80 with nc=3\n",
      "\n",
      "                   from  n    params  module                                       arguments                     \n",
      "  0                  -1  1      1856  ultralytics.nn.modules.conv.Conv             [3, 64, 3, 2]                 \n",
      "  1                  -1  1     73984  ultralytics.nn.modules.conv.Conv             [64, 128, 3, 2]               \n",
      "  2                  -1  3    279808  ultralytics.nn.modules.block.C2f             [128, 128, 3, True]           \n",
      "  3                  -1  1    295424  ultralytics.nn.modules.conv.Conv             [128, 256, 3, 2]              \n",
      "  4                  -1  6   2101248  ultralytics.nn.modules.block.C2f             [256, 256, 6, True]           \n",
      "  5                  -1  1   1180672  ultralytics.nn.modules.conv.Conv             [256, 512, 3, 2]              \n",
      "  6                  -1  6   8396800  ultralytics.nn.modules.block.C2f             [512, 512, 6, True]           \n",
      "  7                  -1  1   2360320  ultralytics.nn.modules.conv.Conv             [512, 512, 3, 2]              \n",
      "  8                  -1  3   4461568  ultralytics.nn.modules.block.C2f             [512, 512, 3, True]           \n",
      "  9                  -1  1    656896  ultralytics.nn.modules.block.SPPF            [512, 512, 5]                 \n",
      " 10                  -1  1         0  torch.nn.modules.upsampling.Upsample         [None, 2, 'nearest']          \n",
      " 11             [-1, 6]  1         0  ultralytics.nn.modules.conv.Concat           [1]                           \n",
      " 12                  -1  3   4723712  ultralytics.nn.modules.block.C2f             [1024, 512, 3]                \n",
      " 13                  -1  1         0  torch.nn.modules.upsampling.Upsample         [None, 2, 'nearest']          \n",
      " 14             [-1, 4]  1         0  ultralytics.nn.modules.conv.Concat           [1]                           \n",
      " 15                  -1  3   1247744  ultralytics.nn.modules.block.C2f             [768, 256, 3]                 \n",
      " 16                  -1  1    590336  ultralytics.nn.modules.conv.Conv             [256, 256, 3, 2]              \n",
      " 17            [-1, 12]  1         0  ultralytics.nn.modules.conv.Concat           [1]                           \n",
      " 18                  -1  3   4592640  ultralytics.nn.modules.block.C2f             [768, 512, 3]                 \n",
      " 19                  -1  1   2360320  ultralytics.nn.modules.conv.Conv             [512, 512, 3, 2]              \n",
      " 20             [-1, 9]  1         0  ultralytics.nn.modules.conv.Concat           [1]                           \n",
      " 21                  -1  3   4723712  ultralytics.nn.modules.block.C2f             [1024, 512, 3]                \n",
      " 22        [15, 18, 21]  1   5585113  ultralytics.nn.modules.head.Detect           [3, [256, 512, 512]]          \n",
      "Model summary: 209 layers, 43,632,153 parameters, 43,632,137 gradients, 165.4 GFLOPs\n",
      "\n",
      "Transferred 589/595 items from pretrained weights\n",
      "\u001b[34m\u001b[1mDDP:\u001b[0m debug command /arf/sw/apps/truba-ai/gpu/miniforge3-2024/envs/gpu-2024.0/bin/python -m torch.distributed.run --nproc_per_node 2 --master_port 55331 /arf/home/baakgul/.config/Ultralytics/DDP/_temp_70t9kcs723232082525728.py\n",
      "Ultralytics 8.3.91 🚀 Python-3.10.15 torch-2.6.0+cu124 CUDA:0 (Tesla P100-PCIE-16GB, 16269MiB)\n",
      "                                                       CUDA:1 (Tesla P100-PCIE-16GB, 16269MiB)\n",
      "\u001b[34m\u001b[1mTensorBoard: \u001b[0mStart with 'tensorboard --logdir runs/detect/exp_955', view at http://localhost:6006/\n",
      "Overriding model.yaml nc=80 with nc=3\n",
      "Transferred 589/595 items from pretrained weights\n",
      "Freezing layer 'model.22.dfl.conv.weight'\n",
      "\u001b[34m\u001b[1mAMP: \u001b[0mrunning Automatic Mixed Precision (AMP) checks...\n",
      "\u001b[34m\u001b[1mAMP: \u001b[0mchecks passed ✅\n"
     ]
    },
    {
     "name": "stderr",
     "output_type": "stream",
     "text": [
      "\u001b[34m\u001b[1mtrain: \u001b[0mScanning /truba/home/baakgul/roadtr-14032025/splits/split_95-5/train/labels... 8491 images, 2 backgrounds, 0 corrupt: 100%|██████████| 8491/8491 [00:19<00:00, 432.51it/s]\n"
     ]
    },
    {
     "name": "stdout",
     "output_type": "stream",
     "text": [
      "\u001b[34m\u001b[1mtrain: \u001b[0mWARNING ⚠️ /truba/home/baakgul/roadtr-14032025/splits/split_95-5/train/images/libadiye-514_jpg.rf.b3240f5d28fbcda0ac0dfec963632818.jpg: 1 duplicate labels removed\n",
      "\u001b[34m\u001b[1mtrain: \u001b[0mWARNING ⚠️ /truba/home/baakgul/roadtr-14032025/splits/split_95-5/train/images/munih-einstein-1551_jpg.rf.b106ab84b7efb048f2144b7c2f1a0e2c.jpg: 1 duplicate labels removed\n",
      "\u001b[34m\u001b[1mtrain: \u001b[0mNew cache created: /truba/home/baakgul/roadtr-14032025/splits/split_95-5/train/labels.cache\n",
      "WARNING ⚠️ Box and segment counts should be equal, but got len(segments) = 7999, len(boxes) = 142709. To resolve this only boxes will be used and all segments will be removed. To avoid this please supply either a detect or segment dataset, not a detect-segment mixed dataset.\n",
      "\u001b[34m\u001b[1malbumentations: \u001b[0mBlur(p=0.01, blur_limit=(3, 7)), MedianBlur(p=0.01, blur_limit=(3, 7)), ToGray(p=0.01, num_output_channels=3, method='weighted_average'), CLAHE(p=0.01, clip_limit=(1.0, 4.0), tile_grid_size=(8, 8))\n"
     ]
    },
    {
     "name": "stderr",
     "output_type": "stream",
     "text": [
      "\u001b[34m\u001b[1mval: \u001b[0mScanning /truba/home/baakgul/roadtr-14032025/splits/split_95-5/valid/labels... 223 images, 0 backgrounds, 0 corrupt: 100%|██████████| 223/223 [00:00<00:00, 455.19it/s]\n"
     ]
    },
    {
     "name": "stdout",
     "output_type": "stream",
     "text": [
      "\u001b[34m\u001b[1mval: \u001b[0mNew cache created: /truba/home/baakgul/roadtr-14032025/splits/split_95-5/valid/labels.cache\n",
      "WARNING ⚠️ Box and segment counts should be equal, but got len(segments) = 138, len(boxes) = 3438. To resolve this only boxes will be used and all segments will be removed. To avoid this please supply either a detect or segment dataset, not a detect-segment mixed dataset.\n",
      "Plotting labels to runs/detect/exp_955/labels.jpg... \n",
      "\u001b[34m\u001b[1moptimizer:\u001b[0m SGD(lr=0.01, momentum=0.937) with parameter groups 97 weight(decay=0.0), 104 weight(decay=0.00046875), 103 bias(decay=0.0)\n"
     ]
    },
    {
     "name": "stderr",
     "output_type": "stream",
     "text": [
      "2025/04/19 08:16:17 INFO mlflow.tracking.fluent: Autologging successfully enabled for keras.\n",
      "2025/04/19 08:16:17 INFO mlflow.tracking.fluent: Autologging successfully enabled for tensorflow.\n",
      "2025/04/19 08:16:17 WARNING mlflow.utils.autologging_utils: MLflow statsmodels autologging is known to be compatible with 0.11.1 <= statsmodels <= 0.14.3, but the installed version is 0.14.4. If you encounter errors during autologging, try upgrading / downgrading statsmodels to a compatible version, or try upgrading MLflow.\n",
      "2025/04/19 08:16:17 INFO mlflow.tracking.fluent: Autologging successfully enabled for statsmodels.\n"
     ]
    },
    {
     "name": "stdout",
     "output_type": "stream",
     "text": [
      "\u001b[34m\u001b[1mMLflow: \u001b[0mlogging run_id(f26b015631f14c35999361cd0f2c059a) to runs/mlflow\n",
      "\u001b[34m\u001b[1mMLflow: \u001b[0mview at http://127.0.0.1:5000 with 'mlflow server --backend-store-uri runs/mlflow'\n",
      "\u001b[34m\u001b[1mMLflow: \u001b[0mdisable with 'yolo settings mlflow=False'\n",
      "\u001b[34m\u001b[1mTensorBoard: \u001b[0mmodel graph visualization added ✅\n",
      "Image sizes 1024 train, 1024 val\n",
      "Using 16 dataloader workers\n",
      "Logging results to \u001b[1mruns/detect/exp_955\u001b[0m\n",
      "Starting training for 100 epochs...\n",
      "\n",
      "      Epoch    GPU_mem   box_loss   cls_loss   dfl_loss  Instances       Size\n"
     ]
    },
    {
     "name": "stderr",
     "output_type": "stream",
     "text": [
      "      1/100      14.9G      1.284     0.9904      1.139        175       1024: 100%|██████████| 425/425 [12:08<00:00,  1.71s/it]\n",
      "                 Class     Images  Instances      Box(P          R      mAP50  mAP50-95): 100%|██████████| 12/12 [00:07<00:00,  1.58it/s]\n"
     ]
    },
    {
     "name": "stdout",
     "output_type": "stream",
     "text": [
      "                   all        223       3438       0.74      0.638      0.633      0.376\n",
      "\n",
      "      Epoch    GPU_mem   box_loss   cls_loss   dfl_loss  Instances       Size\n"
     ]
    },
    {
     "name": "stderr",
     "output_type": "stream",
     "text": [
      "      2/100      14.9G      1.218     0.8133      1.095        130       1024: 100%|██████████| 425/425 [11:59<00:00,  1.69s/it]\n",
      "                 Class     Images  Instances      Box(P          R      mAP50  mAP50-95): 100%|██████████| 12/12 [00:07<00:00,  1.57it/s]\n"
     ]
    },
    {
     "name": "stdout",
     "output_type": "stream",
     "text": [
      "                   all        223       3438      0.749      0.605      0.627      0.392\n",
      "\n",
      "      Epoch    GPU_mem   box_loss   cls_loss   dfl_loss  Instances       Size\n"
     ]
    },
    {
     "name": "stderr",
     "output_type": "stream",
     "text": [
      "      3/100      15.3G       1.23     0.8434      1.114        155       1024: 100%|██████████| 425/425 [11:55<00:00,  1.68s/it]\n",
      "                 Class     Images  Instances      Box(P          R      mAP50  mAP50-95): 100%|██████████| 12/12 [00:07<00:00,  1.60it/s]\n"
     ]
    },
    {
     "name": "stdout",
     "output_type": "stream",
     "text": [
      "                   all        223       3438      0.752      0.603      0.615      0.385\n",
      "\n",
      "      Epoch    GPU_mem   box_loss   cls_loss   dfl_loss  Instances       Size\n"
     ]
    },
    {
     "name": "stderr",
     "output_type": "stream",
     "text": [
      "      4/100      14.7G      1.259     0.8696       1.13        378       1024:  62%|██████▏   | 262/425 [07:21<04:36,  1.70s/it]"
     ]
    }
   ],
   "source": [
    "\"\"\"\n",
    "README / Script Info\n",
    "--------------------\n",
    "\n",
    "Script Name: split_symlink_train_yolov8_955.ipynb\n",
    "\n",
    "Description:\n",
    "------------\n",
    "This script automates the process of:\n",
    "1. Collecting all images from a dataset structured with 'train', 'valid', and 'test' folders.\n",
    "2. Creating new splits (train/valid/test) with a specified ratio (e.g., 95-5).\n",
    "3. Using symlinks to efficiently organize the new split data folders without duplicating files.\n",
    "4. Generating a YOLO-compatible data.yaml file.\n",
    "5. Training a YOLOv8 model on the new split using the Ultralytics YOLO package.\n",
    "\n",
    "Features:\n",
    "---------\n",
    "- Customizable split ratios.\n",
    "- Uses symlinks for storage efficiency.\n",
    "- Compatible with Ultralytics YOLOv8 models.\n",
    "- Includes automatic training with chosen hyperparameters.\n",
    "\n",
    "How to Use:\n",
    "-----------\n",
    "1. Set the BASE_DIR to your dataset root folder.\n",
    "2. Adjust the split ratio(s) in the 'splits' dictionary.\n",
    "3. Run the script (recommended: as a Jupyter Notebook or via CLI).\n",
    "\n",
    "Note:\n",
    "-----\n",
    "- Paths in this script are placeholders; replace with your own dataset locations.\n",
    "- This script requires Ultralytics YOLOv8, PyYAML, tqdm, and scikit-learn.\n",
    "\n",
    "Author: Bahadir Akin Akgul\n",
    "Date: 13.07.2025\n",
    "\"\"\"\n",
    "\n",
    "import os\n",
    "import random\n",
    "import shutil\n",
    "from sklearn.model_selection import train_test_split\n",
    "from tqdm import tqdm\n",
    "import yaml\n",
    "from ultralytics import YOLO\n",
    "\n",
    "# === CONFIGURATION ===\n",
    "BASE_DIR = \"/your/data/root\"  # <-- CHANGE THIS to your dataset root folder\n",
    "\n",
    "ORIGINAL_DIRS = ['train', 'valid', 'test']\n",
    "IMG_EXTENSIONS = ('.jpg', '.jpeg', '.png', '.bmp')\n",
    "\n",
    "# Define your split ratios here\n",
    "splits = {\n",
    "    \"95-5\": 0.95,  # e.g. 95% train, 5% (valid + test)\n",
    "    # Add more splits if needed: \"80-20\": 0.8, etc.\n",
    "}\n",
    "\n",
    "def collect_data(data_dir):\n",
    "    img_files = []\n",
    "    for folder in ORIGINAL_DIRS:\n",
    "        img_folder = os.path.join(data_dir, folder, \"images\")\n",
    "        if not os.path.exists(img_folder):\n",
    "            continue\n",
    "        for fname in os.listdir(img_folder):\n",
    "            if fname.endswith(IMG_EXTENSIONS):\n",
    "                img_files.append(os.path.join(img_folder, fname))\n",
    "    return img_files\n",
    "\n",
    "def link_data(files, dest_dir):\n",
    "    for img_path in tqdm(files, desc=f\"Linking to {dest_dir}\"):\n",
    "        label_path = img_path.replace('/images/', '/labels/').rsplit('.', 1)[0] + '.txt'\n",
    "        new_img_path = os.path.join(dest_dir, \"images\", os.path.basename(img_path))\n",
    "        new_label_path = os.path.join(dest_dir, \"labels\", os.path.basename(label_path))\n",
    "\n",
    "        os.makedirs(os.path.dirname(new_img_path), exist_ok=True)\n",
    "        os.makedirs(os.path.dirname(new_label_path), exist_ok=True)\n",
    "\n",
    "        for src, dst in [(img_path, new_img_path), (label_path, new_label_path)]:\n",
    "            try:\n",
    "                if os.path.exists(dst) or os.path.islink(dst):\n",
    "                    os.remove(dst)\n",
    "                if os.path.exists(src):\n",
    "                    os.symlink(src, dst)\n",
    "            except Exception as e:\n",
    "                print(f\"WARNING: {e} -> {dst}\")\n",
    "\n",
    "def write_data_yaml(split_dir):\n",
    "    yaml_path = os.path.join(split_dir, 'data.yaml')\n",
    "    data_yaml = {\n",
    "        'train': os.path.join(split_dir, 'train/images'),\n",
    "        'val': os.path.join(split_dir, 'valid/images'),\n",
    "        'test': os.path.join(split_dir, 'test/images'),\n",
    "        'nc': 3,\n",
    "        'names': ['pedestrian', 'road', 'vehicle']\n",
    "    }\n",
    "    with open(yaml_path, 'w') as f:\n",
    "        yaml.dump(data_yaml, f)\n",
    "    print(f\"data.yaml created: {yaml_path}\")\n",
    "    return yaml_path\n",
    "\n",
    "def create_split_and_train(base_dir, ratio_name, train_ratio):\n",
    "    print(f\"\\nCreating split '{ratio_name}' and training...\")\n",
    "\n",
    "    split_dir = os.path.join(base_dir, \"splits\", f\"split_{ratio_name}\")\n",
    "    if os.path.exists(split_dir):\n",
    "        shutil.rmtree(split_dir)\n",
    "\n",
    "    for sub in ['train', 'valid', 'test']:\n",
    "        for t in ['images', 'labels']:\n",
    "            os.makedirs(os.path.join(split_dir, sub, t), exist_ok=True)\n",
    "\n",
    "    # Collect all images and split\n",
    "    all_imgs = collect_data(base_dir)\n",
    "    random.shuffle(all_imgs)\n",
    "    train_imgs, testvalid_imgs = train_test_split(all_imgs, train_size=train_ratio, random_state=42)\n",
    "    valid_imgs, test_imgs = train_test_split(testvalid_imgs, test_size=0.5, random_state=42)\n",
    "\n",
    "    # Symlink to folders\n",
    "    link_data(train_imgs, os.path.join(split_dir, \"train\"))\n",
    "    link_data(valid_imgs, os.path.join(split_dir, \"valid\"))\n",
    "    link_data(test_imgs, os.path.join(split_dir, \"test\"))\n",
    "\n",
    "    # Write YAML\n",
    "    yaml_path = write_data_yaml(split_dir)\n",
    "\n",
    "    # Train YOLOv8\n",
    "    model = YOLO('yolov8l.pt')\n",
    "    results = model.train(\n",
    "        data=yaml_path,\n",
    "        epochs=100,\n",
    "        imgsz=1024,\n",
    "        batch=20,\n",
    "        device=[0, 1],  # Adjust GPU IDs as needed\n",
    "        workers=8,\n",
    "        optimizer=\"SGD\",\n",
    "        save_period=10,\n",
    "        name=f\"exp_{ratio_name.replace('-', '')}\"\n",
    "    )\n",
    "\n",
    "    print(f\"Training finished: {ratio_name}\\nResults in: runs/detect/exp_{ratio_name.replace('-', '')}\")\n",
    "\n",
    "# MAIN EXECUTION\n",
    "if __name__ == \"__main__\":\n",
    "    os.environ[\"PYTORCH_CUDA_ALLOC_CONF\"] = \"expandable_segments:True\"\n",
    "    for ratio_name, train_ratio in splits.items():\n",
    "        create_split_and_train(BASE_DIR, ratio_name, train_ratio)\n"
   ]
  },
  {
   "cell_type": "code",
   "execution_count": null,
   "id": "b2eef01f-a379-4af7-aaac-28fe58b7d181",
   "metadata": {},
   "outputs": [],
   "source": []
  }
 ],
 "metadata": {
  "kernelspec": {
   "display_name": "Python 3 (ipykernel)",
   "language": "python",
   "name": "python3"
  },
  "language_info": {
   "codemirror_mode": {
    "name": "ipython",
    "version": 3
   },
   "file_extension": ".py",
   "mimetype": "text/x-python",
   "name": "python",
   "nbconvert_exporter": "python",
   "pygments_lexer": "ipython3",
   "version": "3.10.15"
  }
 },
 "nbformat": 4,
 "nbformat_minor": 5
}
