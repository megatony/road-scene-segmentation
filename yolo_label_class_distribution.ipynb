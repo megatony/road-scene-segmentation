{
 "cells": [
  {
   "cell_type": "code",
   "execution_count": 1,
   "id": "7cf04f68-7638-4bea-9a1d-2ac671ffdebc",
   "metadata": {},
   "outputs": [
    {
     "name": "stdout",
     "output_type": "stream",
     "text": [
      "Benzersiz class ID'leri: {0, 1, 2}\n",
      "Toplam label sayısı: 18766\n"
     ]
    }
   ],
   "source": [
    "\"\"\"\n",
    "README: YOLO Label File Class Distribution Checker\n",
    "\n",
    "This script scans all YOLO-format label files in a specified directory,\n",
    "extracts all unique class IDs, and reports the number of labels found per class.\n",
    "Useful for data sanity checks before training object detection models.\n",
    "\n",
    "How to use:\n",
    "- Set the path to your labels directory (YOLO .txt files) in the `labels_dir` variable below.\n",
    "- Run the script to print all unique class IDs and the total number of label lines.\n",
    "\n",
    "Requirements:\n",
    "- Python 3.6+\n",
    "- Standard library only (no extra packages required)\n",
    "\n",
    "Author: Bahadir Akin Akgul\n",
    "Date: 13.07.2025\n",
    "\"\"\"\n",
    "\n",
    "from pathlib import Path\n",
    "\n",
    "# Set this to your YOLO labels directory\n",
    "labels_dir = Path('PATH_TO_YOUR_LABELS_DIR')\n",
    "\n",
    "class_ids = []\n",
    "\n",
    "# Iterate through all .txt label files and collect class IDs\n",
    "for label_file in labels_dir.glob('*.txt'):\n",
    "    with open(label_file, 'r') as f:\n",
    "        for line in f:\n",
    "            parts = line.strip().split()\n",
    "            if len(parts) > 0:\n",
    "                class_id = int(parts[0])\n",
    "                class_ids.append(class_id)\n",
    "\n",
    "unique_classes = set(class_ids)\n",
    "print(f\"Unique class IDs: {unique_classes}\")\n",
    "print(f\"Total number of labels: {len(class_ids)}\")\n"
   ]
  },
  {
   "cell_type": "code",
   "execution_count": null,
   "id": "47668e70-f98d-4b8a-bd86-aa5aaa056dc5",
   "metadata": {},
   "outputs": [],
   "source": []
  }
 ],
 "metadata": {
  "kernelspec": {
   "display_name": "Python 3 (ipykernel)",
   "language": "python",
   "name": "python3"
  },
  "language_info": {
   "codemirror_mode": {
    "name": "ipython",
    "version": 3
   },
   "file_extension": ".py",
   "mimetype": "text/x-python",
   "name": "python",
   "nbconvert_exporter": "python",
   "pygments_lexer": "ipython3",
   "version": "3.10.15"
  }
 },
 "nbformat": 4,
 "nbformat_minor": 5
}
